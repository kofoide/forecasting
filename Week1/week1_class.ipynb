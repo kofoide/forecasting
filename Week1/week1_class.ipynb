{
 "cells": [
  {
   "cell_type": "markdown",
   "metadata": {},
   "source": [
    "===\n",
    "Week1_class.Rmd\n",
    "Requires: datasets, fma, forecast packages\n",
    "===\n",
    "\n",
    "### let's play with time series data in R\n",
    "first let's get some\n",
    "\n",
    "We'll start with the classic \"airline passenger example\" - the data are in the datasets package\n"
   ]
  },
  {
   "cell_type": "code",
   "execution_count": null,
   "metadata": {
    "autoscroll": false,
    "collapsed": true
   },
   "outputs": [],
   "source": [
    "library(datasets)\n",
    "\n",
    "data(AirPassengers)\n",
    "\n",
    "AP <- AirPassengers\n",
    "\n",
    "#inspect the series\n",
    "AP\n",
    "\n",
    "class(AP)\n",
    "length(AP)\n",
    "start(AP)\n",
    "end(AP)\n",
    "\n",
    "summary(AP)\n"
   ]
  },
  {
   "cell_type": "markdown",
   "metadata": {},
   "source": [
    "How about some basic exploratory data analysis (EDA)?  First some pictures.\n",
    "\n",
    "There are lots of ways to plot time series data.  Here are some of the most basic commands.\n",
    "\n",
    "\n",
    "\n"
   ]
  },
  {
   "cell_type": "code",
   "execution_count": null,
   "metadata": {
    "autoscroll": false,
    "collapsed": true
   },
   "outputs": [],
   "source": [
    "# The base \"plot\" command\n",
    "plot(AP, main = \"Plot command\")\n"
   ]
  },
  {
   "cell_type": "markdown",
   "metadata": {},
   "source": [
    "\n",
    "The Plot.ts command can plot multiple ts, but requires the same time frame in each ts\n"
   ]
  },
  {
   "cell_type": "code",
   "execution_count": null,
   "metadata": {
    "autoscroll": false,
    "collapsed": true
   },
   "outputs": [],
   "source": [
    "plot.ts(AP, main = \"Plot.ts command\")\n"
   ]
  },
  {
   "cell_type": "markdown",
   "metadata": {},
   "source": [
    "\n",
    "The ts.plot command doesn't require the same time frame but does require the same frequency\n"
   ]
  },
  {
   "cell_type": "code",
   "execution_count": null,
   "metadata": {
    "autoscroll": false,
    "collapsed": true
   },
   "outputs": [],
   "source": [
    "ts.plot(AP, main = \"Ts.plot command\")\n"
   ]
  },
  {
   "cell_type": "markdown",
   "metadata": {},
   "source": [
    "\n",
    "Regardless of the command, what do you notice about the series?\n",
    "\n",
    "The qualities you notice will affect the way we model the data.  Trend, cycles, and seasonality are all on the agenda for next week.\n",
    "\n",
    "Now we can explore some of the simple forecasting methods we talked about earlier.\n",
    "\n",
    "These commands are part of the \"forecast\" package so you'll need to load that.\n",
    "\n",
    "### Some simple forecasts - let's look 4 years out\n"
   ]
  },
  {
   "cell_type": "code",
   "execution_count": null,
   "metadata": {
    "autoscroll": false,
    "collapsed": true
   },
   "outputs": [],
   "source": [
    "library(forecast)\n",
    "Mean <- meanf(AP, h=48)\n",
    "class(Mean)\n",
    "Mean\n",
    "\n",
    "Naive <- naive(AP, h=48)\n",
    "class(Naive)\n",
    "Naive\n",
    "\n",
    "Seasonal <- snaive(AP, h=48)\n",
    "class(Seasonal)\n",
    "Seasonal\n",
    "\n",
    "Drift <- rwf(AP, drift=TRUE, h=48)\n",
    "class(Drift)\n",
    "Drift\n"
   ]
  },
  {
   "cell_type": "markdown",
   "metadata": {},
   "source": [
    "\n",
    "These simple forecasts can be charted with the \"plot.forecast command\"\n",
    "\n"
   ]
  },
  {
   "cell_type": "code",
   "execution_count": null,
   "metadata": {
    "autoscroll": false,
    "collapsed": true
   },
   "outputs": [],
   "source": [
    "plot.forecast(Mean)\n",
    "\n",
    "plot.forecast(Naive)\n",
    "\n",
    "plot.forecast(Seasonal)\n",
    "\n",
    "plot.forecast(Drift)\n"
   ]
  },
  {
   "cell_type": "markdown",
   "metadata": {},
   "source": [
    "\n",
    "\n",
    "Let's look at them on the same chart.\n"
   ]
  },
  {
   "cell_type": "code",
   "execution_count": null,
   "metadata": {
    "autoscroll": false,
    "collapsed": true
   },
   "outputs": [],
   "source": [
    "plot(AP, plot.type=\"single\",main=\"Simple Forecasts\", ylab=\"Airline Passengers\",ylim = c(50,750), xlim = c(as.Date(1948), as.Date(1965)))\n",
    "lines(Mean$mean, col = \"blue\")\n",
    "lines(Naive$mean, col = \"red\")\n",
    "lines(Seasonal$mean, col = \"green\")\n",
    "lines(Drift$mean, lty = 2, col=\"black\")\n",
    "legend(\"topleft\", legend=c(\"Mean\",\"Naive\",\"Seasonal\",\"Drift\"), col=c(\"blue\", \"red\", \"green\", \"black\"), lty = c(1,1,1,2))"
   ]
  },
  {
   "cell_type": "markdown",
   "metadata": {},
   "source": [
    "\n",
    "\n",
    "\n",
    "What if we change the time frame for the chart?  Let's just look at 1956 on?  Use the \"window\" command.\n"
   ]
  },
  {
   "cell_type": "code",
   "execution_count": null,
   "metadata": {
    "autoscroll": false,
    "collapsed": true
   },
   "outputs": [],
   "source": [
    "AP.short = window(AP, start = c(1956,1))\n",
    "AP.short\n",
    "\n",
    "Naive.short <- naive(AP.short, h=48)\n",
    "class(Naive.short)\n",
    "Naive.short"
   ]
  },
  {
   "cell_type": "markdown",
   "metadata": {},
   "source": [
    "Now lets see that chart again:\n",
    "\n"
   ]
  },
  {
   "cell_type": "code",
   "execution_count": null,
   "metadata": {
    "autoscroll": false,
    "collapsed": true
   },
   "outputs": [],
   "source": [
    "plot(AP.short, plot.type=\"single\",main=\"Simple Forecasts\", ylab=\"Airline Passengers\",ylim = c(50,750), xlim = c(as.Date(1955), as.Date(1964)))\n",
    "lines(Mean$mean, col = \"blue\")\n",
    "lines(Naive$mean, col = \"red\")\n",
    "lines(Seasonal$mean, col = \"green\")\n",
    "lines(Drift$mean, lty = 2)\n",
    "legend(\"topleft\", legend=c(\"Mean\",\"Naive\",\"Seasonal\",\"Drift\"), col=c(\"blue\", \"red\", \"green\"), lty = c(1,1,1,2))"
   ]
  },
  {
   "cell_type": "markdown",
   "metadata": {},
   "source": [
    "\n",
    "In this case, the window just changed the appearance of the chart. But you need to pay attention to the date range you are using for your calculations because they can change your results.\n",
    "\n"
   ]
  },
  {
   "cell_type": "code",
   "execution_count": null,
   "metadata": {
    "autoscroll": false,
    "collapsed": true
   },
   "outputs": [],
   "source": [
    "Mean.short <- meanf(AP.short, h=48)\n",
    "Naive.short <- naive(AP.short, h=48)\n",
    "Seasonal.short <- snaive(AP.short, h=48)\n",
    "Drift.short <- rwf(AP.short, drift=TRUE, h=48)\n"
   ]
  },
  {
   "cell_type": "markdown",
   "metadata": {},
   "source": [
    "Where would you expect to see the differences?\n",
    "\n"
   ]
  },
  {
   "cell_type": "code",
   "execution_count": null,
   "metadata": {
    "autoscroll": false,
    "collapsed": true
   },
   "outputs": [],
   "source": [
    "plot(AP.short, plot.type=\"single\",main=\"Simple Forecasts\", ylab=\"Airline Passengers\",ylim = c(50,750), xlim = c(as.Date(1955,1), as.Date(1964,1)))\n",
    "lines(Mean.short$mean, col = \"blue\")\n",
    "lines(Naive.short$mean, col = \"red\")\n",
    "lines(Seasonal.short$mean, col = \"green\")\n",
    "lines(Drift.short$mean, lty = 2)\n",
    "legend(\"topleft\", legend=c(\"Mean\",\"Naive\",\"Seasonal\",\"Drift\"), col=c(\"blue\", \"red\", \"green\"), lty = c(1,1,1,2))"
   ]
  },
  {
   "cell_type": "markdown",
   "metadata": {},
   "source": [
    "\n",
    "Let's compare the numbers\n",
    "\n"
   ]
  },
  {
   "cell_type": "code",
   "execution_count": null,
   "metadata": {
    "autoscroll": false,
    "collapsed": true
   },
   "outputs": [],
   "source": [
    "all_mean <- cbind(Mean$mean, Mean.short$mean)\n",
    "all_naive <- cbind(Naive$mean, Naive.short$mean)\n",
    "all_seasonal <- cbind(Seasonal$mean, Seasonal.short$mean)\n",
    "all_drift <- cbind(Drift$mean, Drift.short$mean)\n",
    "\n",
    "\n",
    "all_mean\n",
    "\n",
    "all_naive\n",
    "\n",
    "all_seasonal\n",
    "\n",
    "all_drift"
   ]
  },
  {
   "cell_type": "markdown",
   "metadata": {},
   "source": [
    "\n",
    "So PAY ATTENTION to your date range\n",
    "\n",
    "Next up:  forecast accuracy\n",
    "\n",
    "How good are our simple forecasts? How do we know? We need to compare the forecast with the actual. The charts we did before showed forecasts outside of our sample range - in this dataset, we don't have actual numbers to compare with.\n",
    "\n",
    "Remember what you learned in ADM and PM: training and test datasets.  This is why the windowing is important.\n",
    "\n",
    "Let's look at models using the entire date range and set up the appropriate data structures.\n",
    "\n"
   ]
  },
  {
   "cell_type": "code",
   "execution_count": null,
   "metadata": {
    "autoscroll": false,
    "collapsed": true
   },
   "outputs": [],
   "source": [
    "#what if we use the 80/20 split from ADM?\n",
    "length(AP)\n",
    "trainObs = round(length(AP) * .8)\n",
    "trainObs\n",
    "\n",
    "testObs = length(AP) - trainObs\n",
    "testObs\n",
    "\n",
    "\n",
    "train.AP <- window(AP, start = c(1949,1), end = c(1949,trainObs))\n",
    "\n",
    "test.AP <- window(AP, start = c(1949,trainObs+1))\n"
   ]
  },
  {
   "cell_type": "markdown",
   "metadata": {},
   "source": [
    "Do we think this makes sense?  Remember, our test/training split before didn't have the concept of time.  Here we are splitting things in the middle of a year.\n",
    "\n",
    "Let's proceed to see where it gets us.\n"
   ]
  },
  {
   "cell_type": "code",
   "execution_count": null,
   "metadata": {
    "autoscroll": false,
    "collapsed": true
   },
   "outputs": [],
   "source": [
    "Mean.split <- meanf(train.AP, h=testObs)\n",
    "Naive.split <- naive(train.AP, h=testObs)\n",
    "Seasonal.split <- snaive(train.AP, h=testObs)\n",
    "Drift.split <- rwf(train.AP, drift=TRUE, h=testObs)\n",
    "\n",
    "plot(AP, plot.type=\"single\",main=\"Simple Forecasts\", ylab=\"Airline Passengers\",ylim = c(50,750), xlim = c(as.Date(1948,1), as.Date(1961,1)))\n",
    "lines(Mean.split$mean, col = \"blue\")\n",
    "lines(Naive.split$mean, col = \"red\")\n",
    "lines(Seasonal.split$mean, col = \"green\", lty=2)\n",
    "lines(Drift.split$mean, lty = 2)"
   ]
  },
  {
   "cell_type": "markdown",
   "metadata": {},
   "source": [
    "\n",
    "What do we think?  How do we evaluate things?  Let's start by looking at the residuals. How far off is our simple prediction?\n",
    "\n"
   ]
  },
  {
   "cell_type": "code",
   "execution_count": null,
   "metadata": {
    "autoscroll": false,
    "collapsed": true
   },
   "outputs": [],
   "source": [
    "\n",
    "\n",
    "plot(Naive.split$mean - test.AP, col = \"red\", main = \"Naive\")\n",
    "abline(a = 0, b = 0)\n",
    "\n",
    "plot(Seasonal.split$mean - test.AP, col = \"green\",main = \"Seasonal\")\n",
    "abline(a = 0, b = 0)\n",
    "\n",
    "plot(Drift.split$mean - test.AP, lty = 2,main = \"Drift\")\n",
    "abline(a = 0, b = 0)\n",
    "\n",
    "plot(Mean.split$mean - test.AP, col = \"blue\", main = \"Mean\")\n",
    "abline(a = 0, b = 0)\n"
   ]
  },
  {
   "cell_type": "markdown",
   "metadata": {},
   "source": [
    "If a forecast is correct, the predicted value should equal the actual value.  Given that we have many observations, we want our forecast to equal the actual ON AVERAGE - which is where the 0 mean for residuals comes from.\n",
    "\n",
    "Remember we said they should be\n",
    "* uncorrelated\n",
    "* have mean zero\n",
    "* have constant variance\n",
    "* be normally distributed\n",
    "\n",
    "So, how did this simple model do?\n",
    "\n",
    "\n"
   ]
  },
  {
   "cell_type": "code",
   "execution_count": null,
   "metadata": {
    "autoscroll": false,
    "collapsed": true
   },
   "outputs": [],
   "source": [
    "\n",
    "mean(test.AP - Mean.split$mean)\n",
    "mean(test.AP - Naive.split$mean)\n",
    "mean(test.AP - Seasonal.split$mean)\n",
    "mean(test.AP - Drift.split$mean)\n"
   ]
  },
  {
   "cell_type": "markdown",
   "metadata": {},
   "source": [
    "It doesn't look like the mean of the residuals are zero.  Are these models bad?  In this simple case, probably.\n",
    "\n",
    "How do we assess the accuracy of a forecast?  Remember, we have several measures. Luckily, they are all packaged into one command.\n"
   ]
  },
  {
   "cell_type": "code",
   "execution_count": null,
   "metadata": {
    "autoscroll": false,
    "collapsed": true
   },
   "outputs": [],
   "source": [
    "accuracy(Mean.split, test.AP)\n",
    "\n",
    "accuracy(Naive.split, test.AP)\n",
    "\n",
    "accuracy(Seasonal.split, test.AP)\n",
    "\n",
    "accuracy(Drift.split, test.AP)\n",
    "\n"
   ]
  },
  {
   "cell_type": "markdown",
   "metadata": {},
   "source": [
    "\n",
    "\n",
    "Another example: Stock market data\n",
    "NOTE:  working with daily data in R is painful.  We will use a simple format here and get back to the issues of dealing with \"raw\" data later.\n",
    "\n",
    "\n"
   ]
  },
  {
   "cell_type": "code",
   "execution_count": null,
   "metadata": {
    "autoscroll": false,
    "collapsed": true
   },
   "outputs": [],
   "source": [
    "#Dow jones daily data\n",
    "library(fma)\n",
    "\n",
    "dj <- dowjones\n",
    "class(dj)\n",
    "length(dj)\n",
    "start(dj)\n",
    "end(dj)\n",
    "\n",
    "head(dj)\n",
    "\n",
    "summary(dj)\n",
    "\n"
   ]
  },
  {
   "cell_type": "markdown",
   "metadata": {},
   "source": [
    "This is a time series that has been rescaled to take out the date part.  It's daily closing prices for the Dow Jones from 28 Aug - 18 Dec 1972\n",
    "\n",
    "\n",
    "\n"
   ]
  },
  {
   "cell_type": "code",
   "execution_count": null,
   "metadata": {
    "autoscroll": false,
    "collapsed": true
   },
   "outputs": [],
   "source": [
    "plot(dj, main = \"Dow Jones: 28 Aug - 18 Dec 1972\")\n",
    "\n"
   ]
  },
  {
   "cell_type": "markdown",
   "metadata": {},
   "source": [
    "\n",
    "\n",
    "Let's see how the simple forecasts do.  What if we forecast out 30 days?\n",
    "\n",
    "### Some simple forecasts\n"
   ]
  },
  {
   "cell_type": "code",
   "execution_count": null,
   "metadata": {
    "autoscroll": false,
    "collapsed": true
   },
   "outputs": [],
   "source": [
    "plot(meanf(dj, h = 30), xlab = \"Time\", ylab = \"Value $\", main = \"Dow Jones mean\")\n",
    "\n",
    "plot(naive(dj, h = 30), xlab = \"Time\", ylab = \"Value $\", main = \"Dow Jones naive\")\n",
    "\n",
    "plot(snaive(dj, h = 30), xlab = \"Time\", ylab = \"Value $\", main = \"Dow Jones seasonal\")\n",
    "\n",
    "plot(rwf(dj, drift = TRUE, h = 30), xlab = \"Time\", ylab = \"Value $\", main = \"Dow Jones drift\")\n",
    "\n",
    "# All on one chart\n",
    "plot(rwf(dj, drift=TRUE, h=30, level=0), xlab=\"Time\", ylab=\"Value $\", main=\"\")\n",
    "lines(naive(dj, h=30, level=0)$mean, xlab=\"\", ylab=\"\", main=\"\", col=\"green\")\n",
    "lines(meanf(dj, h=30, level=0)$mean, xlab=\"\", ylab=\"\", main=\"\", col=\"red\")\n",
    "\n",
    "legend(\"topleft\",\n",
    "  legend = c(\"Drift\", \"Naive\", \"Mean\"),\n",
    "  col = c(\"blue\", \"green\", \"red\"), lty=1)\n"
   ]
  },
  {
   "cell_type": "markdown",
   "metadata": {},
   "source": [
    "\n",
    "Just for grins and giggles:  remember we said that the drift model is the equivalent of drawing a line between the first and last observations?\n"
   ]
  },
  {
   "cell_type": "code",
   "execution_count": null,
   "metadata": {
    "autoscroll": false,
    "collapsed": true
   },
   "outputs": [],
   "source": [
    "plot(rwf(dj, drift = TRUE, h = 30), xlab = \"Time\", ylab = \"Value $\", main = \"\")\n",
    "slope = (tail(dj, 1) - head(dowjones, 1)) / (length(dowjones) - 1)\n",
    "intercept = head(dj, 1) - slope # Since time starts from 1\n",
    "abline(intercept, slope, lty = 2, col = \"red\")"
   ]
  },
  {
   "cell_type": "markdown",
   "metadata": {},
   "source": [
    "\n",
    "\n",
    "\n",
    "These are \"out of sample forecasts\" - so we can't really gauge the accuracy.  Let's do our in sample test.\n",
    "\n",
    "How about the test/train split?  What makes sense?\n",
    "\n"
   ]
  },
  {
   "cell_type": "code",
   "execution_count": null,
   "metadata": {
    "autoscroll": false,
    "collapsed": true
   },
   "outputs": [],
   "source": [
    "#because this is less than one year's worth of daily data, we can still use a percentage approach.\n",
    "trainObs = round(length(dj) * .7)\n",
    "trainObs\n",
    "train.dj <- window(dj, end = trainObs)\n",
    "\n",
    "test.dj <- window(dj, start = trainObs+1)\n",
    "\n",
    "\n",
    "plot(train.dj, ylim = c(105, 125), xlim = c(0,length(dj)))\n",
    "lines(test.dj, col = \"blue\")\n"
   ]
  },
  {
   "cell_type": "markdown",
   "metadata": {},
   "source": [
    "\n",
    "Okay, now for our simple forecasts\n",
    "\n"
   ]
  },
  {
   "cell_type": "code",
   "execution_count": null,
   "metadata": {
    "autoscroll": false,
    "collapsed": true
   },
   "outputs": [],
   "source": [
    "Mean.dj.split <- meanf(train.dj, h=length(test.dj))\n",
    "Naive.dj.split <- naive(train.dj, h=length(test.dj))\n",
    "Seasonal.dj.split <- snaive(train.dj, h=length(test.dj))\n",
    "Drift.dj.split <- rwf(train.dj, drift = TRUE, h=length(test.dj))\n",
    "\n"
   ]
  },
  {
   "cell_type": "markdown",
   "metadata": {},
   "source": [
    "First, let's look at the pictures.\n",
    "\n"
   ]
  },
  {
   "cell_type": "code",
   "execution_count": null,
   "metadata": {
    "autoscroll": false,
    "collapsed": true
   },
   "outputs": [],
   "source": [
    "plot(dj)\n",
    "lines(Mean.dj.split$mean, col = \"blue\")\n",
    "lines(Naive.dj.split$mean, col = \"red\")\n",
    "lines(Drift.dj.split$mean, lty = 2)"
   ]
  },
  {
   "cell_type": "markdown",
   "metadata": {},
   "source": [
    "Which model would you use?\n",
    "\n",
    "Let's look at the accuracy measures.\n",
    "\n"
   ]
  },
  {
   "cell_type": "code",
   "execution_count": null,
   "metadata": {
    "autoscroll": false,
    "collapsed": true
   },
   "outputs": [],
   "source": [
    "accuracy(Mean.dj.split, test.dj)\n",
    "\n",
    "accuracy(Naive.dj.split, test.dj)\n",
    "\n",
    "\n",
    "accuracy(Drift.dj.split, test.dj)\n",
    "\n"
   ]
  },
  {
   "cell_type": "markdown",
   "metadata": {},
   "source": [
    "\n"
   ]
  }
 ],
 "metadata": {
  "kernelspec": {
   "display_name": "R",
   "language": "R",
   "name": "ir"
  },
  "language_info": {
   "codemirror_mode": "r",
   "file_extension": ".r",
   "mimetype": "text/x-r-source",
   "name": "R",
   "pygments_lexer": "r",
   "version": "3.3.1"
  }
 },
 "nbformat": 4,
 "nbformat_minor": 0
}
