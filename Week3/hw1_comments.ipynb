{
 "cells": [
  {
   "cell_type": "markdown",
   "metadata": {},
   "source": [
    "Comments on HW #1\n",
    "\n",
    "While I am flattered by the dedication that some folks have shown in sticking very closely to the code from class, I would appreciate a little more critical thought.  I show things for the purpose of exposition - I think it's important that you know that there are 3 different versions of the plot command and what they do so you don't get confused.  You should not feel it necessary to use all 3 in your homework unless there is a reason.\n",
    "\n",
    "You can (and should) rename variables, change labels on charts, and understand why you need to run a piece of code rather than doing it because we did it in class.\n",
    "\n",
    "\n",
    "Effect of frequency\n",
    "Why were the forecasts for naive and seasonal the same for the ibmclose data?  What are the formulas?  It's not the data themselves but the way they were specified when we loaded them into R.\n",
    "\n",
    "Consider this case instead:\n"
   ]
  },
  {
   "cell_type": "code",
   "execution_count": null,
   "metadata": {
    "autoscroll": false,
    "collapsed": true
   },
   "outputs": [],
   "source": [
    "library(fma)\n",
    "it <- ts(ibmclose, frequency = 12, start = c(1980,1) )\n",
    "start(it)\n",
    "end(it)\n",
    "it\n",
    "plot(it)\n",
    "it.train <- window(it, end = c(1980, 300))\n",
    "it.test <- window(it, start = c(1980, 301))\n",
    "length(it.train)\n",
    "length(it.test)\n",
    "\n",
    "Mean.it<- meanf(it.train, h=length(it.test))\n",
    "Naive.it <- naive(it.train, h=length(it.test))\n",
    "Seasonal.it <- snaive(it.train, h=length(it.test))\n",
    "Drift.it <- rwf(it.train, drift = TRUE, h=length(it.test))\n",
    "\n",
    "plot(it)\n",
    "lines(Mean.it$mean, col = \"blue\")\n",
    "lines(Naive.it$mean, col = \"red\")\n",
    "lines(Seasonal.it$mean, col = \"green\")\n",
    "lines(Drift.it$mean, lty = 2)"
   ]
  },
  {
   "cell_type": "markdown",
   "metadata": {},
   "source": [
    "\n",
    "Helpful resources for creating time series in R:\n",
    "http://stackoverflow.com/questions/29046311/how-to-convert-data-frame-into-time-series-in-r%5D (Thanks Mike R)\n"
   ]
  }
 ],
 "metadata": {
  "kernelspec": {
   "display_name": "R",
   "language": "R",
   "name": "ir"
  },
  "language_info": {
   "codemirror_mode": "r",
   "file_extension": ".r",
   "mimetype": "text/x-r-source",
   "name": "R",
   "pygments_lexer": "r",
   "version": "3.3.1"
  }
 },
 "nbformat": 4,
 "nbformat_minor": 0
}
