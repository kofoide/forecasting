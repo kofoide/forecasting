{
 "cells": [
  {
   "cell_type": "code",
   "execution_count": 1,
   "metadata": {
    "collapsed": false
   },
   "outputs": [
    {
     "name": "stderr",
     "output_type": "stream",
     "text": [
      "Loading required package: forecast\n",
      "Loading required package: zoo\n",
      "\n",
      "Attaching package: ‘zoo’\n",
      "\n",
      "The following objects are masked from ‘package:base’:\n",
      "\n",
      "    as.Date, as.Date.numeric\n",
      "\n",
      "Loading required package: timeDate\n",
      "This is forecast 7.1 \n",
      "\n",
      "Loading required package: fma\n",
      "Loading required package: tseries\n",
      "Loading required package: expsmooth\n",
      "Loading required package: lmtest\n"
     ]
    }
   ],
   "source": [
    "library(fpp)"
   ]
  },
  {
   "cell_type": "code",
   "execution_count": 11,
   "metadata": {
    "collapsed": false
   },
   "outputs": [
    {
     "data": {
      "text/html": [
       "<ol class=list-inline>\n",
       "\t<li>'mts'</li>\n",
       "\t<li>'ts'</li>\n",
       "</ol>\n"
      ],
      "text/latex": [
       "\\begin{enumerate*}\n",
       "\\item 'mts'\n",
       "\\item 'ts'\n",
       "\\end{enumerate*}\n"
      ],
      "text/markdown": [
       "1. 'mts'\n",
       "2. 'ts'\n",
       "\n",
       "\n"
      ],
      "text/plain": [
       "[1] \"mts\" \"ts\" "
      ]
     },
     "metadata": {},
     "output_type": "display_data"
    }
   ],
   "source": [
    "class(insurance)"
   ]
  },
  {
   "cell_type": "code",
   "execution_count": 4,
   "metadata": {
    "collapsed": false
   },
   "outputs": [],
   "source": [
    "Advert = cbind(insurance[,2], c(NA, insurance[1:39,2]), c(NA, NA, insurance[1:38,2]), c(NA,NA,NA,insurance[1:37,2]))"
   ]
  },
  {
   "cell_type": "code",
   "execution_count": 13,
   "metadata": {
    "collapsed": false
   },
   "outputs": [
    {
     "data": {
      "text/plain": [
       "           Quotes TV.advert\n",
       "Jan 2002 12.97065  7.212725\n",
       "Feb 2002 15.38714  9.443570\n",
       "Mar 2002 13.22957  7.534250\n",
       "Apr 2002 12.97065  7.212725\n",
       "May 2002 15.38714  9.443570\n",
       "Jun 2002 11.72288  6.415215\n",
       "Jul 2002 10.06177  5.806990\n",
       "Aug 2002 10.82279  6.203600\n",
       "Sep 2002 13.28707  7.586430\n",
       "Oct 2002 14.57832  8.004935\n",
       "Nov 2002 15.60542  8.834980\n",
       "Dec 2002 15.93515  8.957255\n",
       "Jan 2003 16.99486  9.532990\n",
       "Feb 2003 16.87821  9.392950\n",
       "Mar 2003 16.45128  8.918560\n",
       "Apr 2003 15.28118  8.374120\n",
       "May 2003 15.88901  9.844505\n",
       "Jun 2003 15.67747  9.849390\n",
       "Jul 2003 13.28780  8.402730\n",
       "Aug 2003 12.64484  7.920675\n",
       "Sep 2003 11.82771  7.436085\n",
       "Oct 2003  9.69184  6.340490\n",
       "Nov 2003 10.30415  6.939995\n",
       "Dec 2003 11.38253  6.977100\n",
       "Jan 2004 12.95149  8.010201\n",
       "Feb 2004 13.63092  9.565460\n",
       "Mar 2004  9.12098  6.272510\n",
       "Apr 2004  8.39468  5.707495\n",
       "May 2004 12.30076  7.963540\n",
       "Jun 2004 13.84831  8.494221\n",
       "Jul 2004 15.96246  9.789085\n",
       "Aug 2004 14.19738  8.692825\n",
       "Sep 2004 12.85922  8.057230\n",
       "Oct 2004 12.08837  7.588995\n",
       "Nov 2004 12.93375  8.244881\n",
       "Dec 2004 11.72235  6.675540\n",
       "Jan 2005 15.47126  9.219604\n",
       "Feb 2005 18.43898 10.963800\n",
       "Mar 2005 17.49186 10.456290\n",
       "Apr 2005 14.49168  8.728600"
      ]
     },
     "metadata": {},
     "output_type": "display_data"
    }
   ],
   "source": [
    "insurance"
   ]
  },
  {
   "cell_type": "code",
   "execution_count": 6,
   "metadata": {
    "collapsed": false
   },
   "outputs": [
    {
     "data": {
      "text/html": [
       "<ol class=list-inline>\n",
       "\t<li>7.212725</li>\n",
       "\t<li>9.44357</li>\n",
       "\t<li>6.415215</li>\n",
       "\t<li>5.80699</li>\n",
       "\t<li>6.2036</li>\n",
       "\t<li>7.58643</li>\n",
       "\t<li>8.004935</li>\n",
       "\t<li>8.83498</li>\n",
       "\t<li>8.957255</li>\n",
       "\t<li>9.53299</li>\n",
       "\t<li>9.39295</li>\n",
       "\t<li>8.91856</li>\n",
       "\t<li>8.37412</li>\n",
       "\t<li>9.844505</li>\n",
       "\t<li>9.84939</li>\n",
       "\t<li>8.40273</li>\n",
       "\t<li>7.920675</li>\n",
       "\t<li>7.436085</li>\n",
       "\t<li>6.34049</li>\n",
       "\t<li>6.939995</li>\n",
       "\t<li>6.9771</li>\n",
       "\t<li>8.010201</li>\n",
       "\t<li>9.56546</li>\n",
       "\t<li>6.27251</li>\n",
       "\t<li>5.707495</li>\n",
       "\t<li>7.96354</li>\n",
       "\t<li>8.494221</li>\n",
       "\t<li>9.789085</li>\n",
       "\t<li>8.692825</li>\n",
       "\t<li>8.05723</li>\n",
       "\t<li>7.588995</li>\n",
       "\t<li>8.244881</li>\n",
       "\t<li>6.67554</li>\n",
       "\t<li>9.219604</li>\n",
       "\t<li>10.9638</li>\n",
       "\t<li>10.45629</li>\n",
       "\t<li>8.7286</li>\n",
       "</ol>\n"
      ],
      "text/latex": [
       "\\begin{enumerate*}\n",
       "\\item 7.212725\n",
       "\\item 9.44357\n",
       "\\item 6.415215\n",
       "\\item 5.80699\n",
       "\\item 6.2036\n",
       "\\item 7.58643\n",
       "\\item 8.004935\n",
       "\\item 8.83498\n",
       "\\item 8.957255\n",
       "\\item 9.53299\n",
       "\\item 9.39295\n",
       "\\item 8.91856\n",
       "\\item 8.37412\n",
       "\\item 9.844505\n",
       "\\item 9.84939\n",
       "\\item 8.40273\n",
       "\\item 7.920675\n",
       "\\item 7.436085\n",
       "\\item 6.34049\n",
       "\\item 6.939995\n",
       "\\item 6.9771\n",
       "\\item 8.010201\n",
       "\\item 9.56546\n",
       "\\item 6.27251\n",
       "\\item 5.707495\n",
       "\\item 7.96354\n",
       "\\item 8.494221\n",
       "\\item 9.789085\n",
       "\\item 8.692825\n",
       "\\item 8.05723\n",
       "\\item 7.588995\n",
       "\\item 8.244881\n",
       "\\item 6.67554\n",
       "\\item 9.219604\n",
       "\\item 10.9638\n",
       "\\item 10.45629\n",
       "\\item 8.7286\n",
       "\\end{enumerate*}\n"
      ],
      "text/markdown": [
       "1. 7.212725\n",
       "2. 9.44357\n",
       "3. 6.415215\n",
       "4. 5.80699\n",
       "5. 6.2036\n",
       "6. 7.58643\n",
       "7. 8.004935\n",
       "8. 8.83498\n",
       "9. 8.957255\n",
       "10. 9.53299\n",
       "11. 9.39295\n",
       "12. 8.91856\n",
       "13. 8.37412\n",
       "14. 9.844505\n",
       "15. 9.84939\n",
       "16. 8.40273\n",
       "17. 7.920675\n",
       "18. 7.436085\n",
       "19. 6.34049\n",
       "20. 6.939995\n",
       "21. 6.9771\n",
       "22. 8.010201\n",
       "23. 9.56546\n",
       "24. 6.27251\n",
       "25. 5.707495\n",
       "26. 7.96354\n",
       "27. 8.494221\n",
       "28. 9.789085\n",
       "29. 8.692825\n",
       "30. 8.05723\n",
       "31. 7.588995\n",
       "32. 8.244881\n",
       "33. 6.67554\n",
       "34. 9.219604\n",
       "35. 10.9638\n",
       "36. 10.45629\n",
       "37. 8.7286\n",
       "\n",
       "\n"
      ],
      "text/plain": [
       " [1]  7.212725  9.443570  6.415215  5.806990  6.203600  7.586430  8.004935\n",
       " [8]  8.834980  8.957255  9.532990  9.392950  8.918560  8.374120  9.844505\n",
       "[15]  9.849390  8.402730  7.920675  7.436085  6.340490  6.939995  6.977100\n",
       "[22]  8.010201  9.565460  6.272510  5.707495  7.963540  8.494221  9.789085\n",
       "[29]  8.692825  8.057230  7.588995  8.244881  6.675540  9.219604 10.963800\n",
       "[36] 10.456290  8.728600"
      ]
     },
     "metadata": {},
     "output_type": "display_data"
    }
   ],
   "source": [
    "Advert[4:40,1]"
   ]
  },
  {
   "cell_type": "code",
   "execution_count": null,
   "metadata": {
    "collapsed": true
   },
   "outputs": [],
   "source": []
  }
 ],
 "metadata": {
  "kernelspec": {
   "display_name": "R",
   "language": "R",
   "name": "ir"
  },
  "language_info": {
   "codemirror_mode": "r",
   "file_extension": ".r",
   "mimetype": "text/x-r-source",
   "name": "R",
   "pygments_lexer": "r",
   "version": "3.3.1"
  }
 },
 "nbformat": 4,
 "nbformat_minor": 1
}
